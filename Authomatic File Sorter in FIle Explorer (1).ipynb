{
 "cells": [
  {
   "cell_type": "markdown",
   "id": "62501401-c6d5-4e8d-b710-d8543def029a",
   "metadata": {},
   "source": [
    "Authomatic File Sorter in FIle Explorer "
   ]
  },
  {
   "cell_type": "code",
   "execution_count": 11,
   "id": "e72ca575-3efa-4d16-aee6-2662a491bca5",
   "metadata": {},
   "outputs": [],
   "source": [
    "import os, shutil "
   ]
  },
  {
   "cell_type": "code",
   "execution_count": 13,
   "id": "753d0c24-cdda-4b3d-aacb-c23621943103",
   "metadata": {},
   "outputs": [],
   "source": [
    "#import the folder link for sorting, add a 'r' at the front of the link it represent raw text\n",
    "#change the back slash to forward slash \n",
    "path = r'C:/Users/HP/Desktop/File Sorter Python/'\n",
    "\n",
    "#create a folder, check each file indifidually and idendify what kind of file it is, then put it into the correct folder "
   ]
  },
  {
   "cell_type": "code",
   "execution_count": 15,
   "id": "51977e34-55c2-4aac-a93c-fcd9bb0e59bc",
   "metadata": {},
   "outputs": [],
   "source": [
    "#show all the file within path\n",
    "file_name = os.listdir(path)"
   ]
  },
  {
   "cell_type": "code",
   "execution_count": 17,
   "id": "3394402c-23d8-489e-9ab2-e4507c8298a6",
   "metadata": {},
   "outputs": [
    {
     "data": {
      "text/plain": [
       "False"
      ]
     },
     "execution_count": 17,
     "metadata": {},
     "output_type": "execute_result"
    }
   ],
   "source": [
    "#cheacking if a file exits in the path \n",
    "\n",
    "os.path.exists(path + 'csv files')"
   ]
  },
  {
   "cell_type": "code",
   "execution_count": null,
   "id": "dae18708-cde6-4578-b5b0-0df455c3b454",
   "metadata": {},
   "outputs": [],
   "source": [
    "#creating a folder \n",
    "\n",
    "folder_names = ['jpg files', 'excel file', 'document file']\n",
    "\n",
    "for loop in range(0,3):\n",
    "    if not os.path.exists(path + folder_names[loop]):\n",
    "        os.makedirs(path + folder_names[loop])"
   ]
  },
  {
   "cell_type": "code",
   "execution_count": 20,
   "id": "d068acf0-a89a-4c36-9aba-1334288b7435",
   "metadata": {},
   "outputs": [
    {
     "name": "stdout",
     "output_type": "stream",
     "text": [
      "there are files in this path that were not moved\n",
      "there are files in this path that were not moved\n",
      "there are files in this path that were not moved\n"
     ]
    }
   ],
   "source": [
    "#cheaking what kind of file is it, and placing it into the correct folder \n",
    "\n",
    "for file in file_name:\n",
    "    if \".jpg\" in file and not os.path.exists(path + \"jpg files/\" + file):\n",
    "        shutil.move(path + file, path + \"jpg files/\" + file)\n",
    "    elif \".xlsx\" in file and not os.path.exists(path + \"excel file/\" + file):\n",
    "        shutil.move(path + file, path + \"excel file/\" + file)\n",
    "    elif \".docx\" in file and not os.path.exists(path + \"document file/\" + file):\n",
    "        shutil.move(path + file, path + \"document file/\" + file)\n",
    "    else:\n",
    "        print('there are files in this path that were not moved')    \n"
   ]
  },
  {
   "cell_type": "code",
   "execution_count": null,
   "id": "d1506025-53e0-4de3-99c6-73e91e46c09b",
   "metadata": {},
   "outputs": [],
   "source": []
  }
 ],
 "metadata": {
  "kernelspec": {
   "display_name": "Python 3 (ipykernel)",
   "language": "python",
   "name": "python3"
  },
  "language_info": {
   "codemirror_mode": {
    "name": "ipython",
    "version": 3
   },
   "file_extension": ".py",
   "mimetype": "text/x-python",
   "name": "python",
   "nbconvert_exporter": "python",
   "pygments_lexer": "ipython3",
   "version": "3.12.4"
  }
 },
 "nbformat": 4,
 "nbformat_minor": 5
}
